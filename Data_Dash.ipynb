{
  "nbformat": 4,
  "nbformat_minor": 0,
  "metadata": {
    "colab": {
      "name": "Data_Dash_.ipynb",
      "provenance": [],
      "collapsed_sections": [
        "2p5NmTDo-PR2",
        "mVDjFzkj-yt7",
        "_W6nWmnFADqJ"
      ]
    },
    "kernelspec": {
      "display_name": "Python 3",
      "name": "python3"
    },
    "language_info": {
      "name": "python"
    }
  },
  "cells": [
    {
      "cell_type": "markdown",
      "metadata": {
        "id": "2p5NmTDo-PR2"
      },
      "source": [
        "# IMPORTING lIBRARIES"
      ]
    },
    {
      "cell_type": "markdown",
      "metadata": {
        "id": "YgoJVW8L63fE"
      },
      "source": [
        "Importing basic library modules required for data manipulating operations and visualizations."
      ]
    },
    {
      "cell_type": "code",
      "metadata": {
        "id": "aw0kyufJxapB"
      },
      "source": [
        "%matplotlib inline\n",
        "import re\n",
        "import nltk\n",
        "import spacy\n",
        "import string\n",
        "import pkg_resources\n",
        "import numpy as np\n",
        "import pandas as pd\n",
        "import matplotlib.pyplot as plt\n",
        "import seaborn as sns\n",
        "import warnings\n",
        "pd.options.mode.chained_assignment = None\n",
        "warnings.filterwarnings('ignore')"
      ],
      "execution_count": null,
      "outputs": []
    },
    {
      "cell_type": "markdown",
      "metadata": {
        "id": "tuKfagxO74QM"
      },
      "source": [
        "Importing required objects from modules for Model Construction, Evaluation, Pre-Processing and Model Optimization.\n",
        "\n",
        "NOTE: Used '!pip install' command for downloading external modules."
      ]
    },
    {
      "cell_type": "code",
      "metadata": {
        "id": "U8Imv7_Y6PXE"
      },
      "source": [
        "from nltk.corpus import stopwords\n",
        "nltk.download('stopwords')\n",
        "!pip install textblob\n",
        "from textblob import TextBlob\n",
        "from sklearn.metrics import mean_squared_error \n",
        "import statsmodels.api as sm\n",
        "from sklearn.impute import SimpleImputer\n",
        "from sklearn.pipeline import Pipeline, make_pipeline\n",
        "from sklearn.model_selection import train_test_split, GridSearchCV\n",
        "from sklearn.neighbors import KNeighborsRegressor\n",
        "from xgboost import XGBRegressor"
      ],
      "execution_count": null,
      "outputs": []
    },
    {
      "cell_type": "markdown",
      "metadata": {
        "id": "mVDjFzkj-yt7"
      },
      "source": [
        "# IMPORTING DATA"
      ]
    },
    {
      "cell_type": "code",
      "metadata": {
        "id": "5iSiwsU4x2Os",
        "colab": {
          "base_uri": "https://localhost:8080/"
        },
        "outputId": "99806aba-b01f-4af8-ed1a-f073ef2a9be9"
      },
      "source": [
        "Train = pd.read_csv(\"/content/DataDashTrainingData - TwitterData.csv\", encoding='utf8')\n",
        "Test = pd.read_csv(\"/content/validation_wo_dpv.xlsx - Sheet1.csv\", encoding='utf8')\n",
        "print(Train.shape,Test.shape)"
      ],
      "execution_count": null,
      "outputs": [
        {
          "output_type": "stream",
          "name": "stdout",
          "text": [
            "(1209, 14) (744, 10)\n"
          ]
        }
      ]
    },
    {
      "cell_type": "code",
      "metadata": {
        "id": "hhH5LaWZyOw5",
        "colab": {
          "base_uri": "https://localhost:8080/"
        },
        "outputId": "10a82c87-3cd7-456f-ca75-11585a4ee604"
      },
      "source": [
        "Train.head(2)"
      ],
      "execution_count": null,
      "outputs": [
        {
          "output_type": "execute_result",
          "data": {
            "text/html": [
              "<div>\n",
              "<style scoped>\n",
              "    .dataframe tbody tr th:only-of-type {\n",
              "        vertical-align: middle;\n",
              "    }\n",
              "\n",
              "    .dataframe tbody tr th {\n",
              "        vertical-align: top;\n",
              "    }\n",
              "\n",
              "    .dataframe thead th {\n",
              "        text-align: right;\n",
              "    }\n",
              "</style>\n",
              "<table border=\"1\" class=\"dataframe\">\n",
              "  <thead>\n",
              "    <tr style=\"text-align: right;\">\n",
              "      <th></th>\n",
              "      <th>name</th>\n",
              "      <th>date</th>\n",
              "      <th>tweets</th>\n",
              "      <th>count_tweets</th>\n",
              "      <th>avg_tweet_likes</th>\n",
              "      <th>avg_tweet_retweets</th>\n",
              "      <th>chatter</th>\n",
              "      <th>followers</th>\n",
              "      <th>following</th>\n",
              "      <th>change</th>\n",
              "      <th>rank</th>\n",
              "      <th>rank on the following day (dpv1)</th>\n",
              "      <th>rank 2 days later            ( dpv2)</th>\n",
              "      <th>rank 3 days later          (dpv3)</th>\n",
              "    </tr>\n",
              "  </thead>\n",
              "  <tbody>\n",
              "    <tr>\n",
              "      <th>0</th>\n",
              "      <td>company_46</td>\n",
              "      <td>10/23/2021</td>\n",
              "      <td>[{'text': '.@PM360online calls the work of our...</td>\n",
              "      <td>2.0</td>\n",
              "      <td>2.0</td>\n",
              "      <td>1.0</td>\n",
              "      <td>NaN</td>\n",
              "      <td>72753</td>\n",
              "      <td>496</td>\n",
              "      <td>0.000110</td>\n",
              "      <td>32.0</td>\n",
              "      <td>29.0</td>\n",
              "      <td>25.0</td>\n",
              "      <td>31.0</td>\n",
              "    </tr>\n",
              "    <tr>\n",
              "      <th>1</th>\n",
              "      <td>company_17</td>\n",
              "      <td>10/23/2021</td>\n",
              "      <td>[{'text': '@Amyrive21803741 Yikes! Sorry to he...</td>\n",
              "      <td>3.0</td>\n",
              "      <td>0.0</td>\n",
              "      <td>0.0</td>\n",
              "      <td>NaN</td>\n",
              "      <td>501445</td>\n",
              "      <td>65</td>\n",
              "      <td>-0.000088</td>\n",
              "      <td>91.0</td>\n",
              "      <td>81.0</td>\n",
              "      <td>83.0</td>\n",
              "      <td>84.0</td>\n",
              "    </tr>\n",
              "  </tbody>\n",
              "</table>\n",
              "</div>"
            ],
            "text/plain": [
              "         name  ... rank 3 days later          (dpv3)\n",
              "0  company_46  ...                              31.0\n",
              "1  company_17  ...                              84.0\n",
              "\n",
              "[2 rows x 14 columns]"
            ]
          },
          "metadata": {},
          "execution_count": 4
        }
      ]
    },
    {
      "cell_type": "markdown",
      "metadata": {
        "id": "lzR9Q4tM9jJF"
      },
      "source": [
        "DROPPING NAME AND DATE COLUMNS FROM TRAINING DATAFRAME AS THEY ARE NOT PRESENT IN THE TESTING DATASET AND ARE NOT REQUIRED FOR TRAINING."
      ]
    },
    {
      "cell_type": "code",
      "metadata": {
        "colab": {
          "base_uri": "https://localhost:8080/"
        },
        "id": "HYAa_YKP9ujn",
        "outputId": "5eb39b85-076d-461d-e6ba-aed69ba829ef"
      },
      "source": [
        "Train.drop(['name','date'], axis=1, inplace=True)\n",
        "id=Test['ID']\n",
        "Test.drop('ID', axis=1, inplace=True)\n",
        "Test.head(2)"
      ],
      "execution_count": null,
      "outputs": [
        {
          "output_type": "execute_result",
          "data": {
            "text/html": [
              "<div>\n",
              "<style scoped>\n",
              "    .dataframe tbody tr th:only-of-type {\n",
              "        vertical-align: middle;\n",
              "    }\n",
              "\n",
              "    .dataframe tbody tr th {\n",
              "        vertical-align: top;\n",
              "    }\n",
              "\n",
              "    .dataframe thead th {\n",
              "        text-align: right;\n",
              "    }\n",
              "</style>\n",
              "<table border=\"1\" class=\"dataframe\">\n",
              "  <thead>\n",
              "    <tr style=\"text-align: right;\">\n",
              "      <th></th>\n",
              "      <th>tweets</th>\n",
              "      <th>count_tweets</th>\n",
              "      <th>avg_tweet_likes</th>\n",
              "      <th>avg_tweet_retweets</th>\n",
              "      <th>chatter</th>\n",
              "      <th>followers</th>\n",
              "      <th>following</th>\n",
              "      <th>change</th>\n",
              "      <th>rank</th>\n",
              "    </tr>\n",
              "  </thead>\n",
              "  <tbody>\n",
              "    <tr>\n",
              "      <th>0</th>\n",
              "      <td>[{'text': 'JUST IN: Weâ€™re sharing #BloodCanc...</td>\n",
              "      <td>2.0</td>\n",
              "      <td>10.000000</td>\n",
              "      <td>0.5</td>\n",
              "      <td>[{'text': 'RT @SligoLGFA: Sligo LGFA countdown...</td>\n",
              "      <td>72930</td>\n",
              "      <td>496</td>\n",
              "      <td>0.000412</td>\n",
              "      <td>6.0</td>\n",
              "    </tr>\n",
              "    <tr>\n",
              "      <th>1</th>\n",
              "      <td>[{'text': '@Sadu_SBS DM us your order # &amp;amp; ...</td>\n",
              "      <td>3.0</td>\n",
              "      <td>0.333333</td>\n",
              "      <td>0.0</td>\n",
              "      <td>[{'text': '@Abercrombie I bought a fewT-shirtâ...</td>\n",
              "      <td>501153</td>\n",
              "      <td>65</td>\n",
              "      <td>-0.000060</td>\n",
              "      <td>88.0</td>\n",
              "    </tr>\n",
              "  </tbody>\n",
              "</table>\n",
              "</div>"
            ],
            "text/plain": [
              "                                              tweets  ...  rank\n",
              "0  [{'text': 'JUST IN: Weâ€™re sharing #BloodCanc...  ...   6.0\n",
              "1  [{'text': '@Sadu_SBS DM us your order # &amp; ...  ...  88.0\n",
              "\n",
              "[2 rows x 9 columns]"
            ]
          },
          "metadata": {},
          "execution_count": 5
        }
      ]
    },
    {
      "cell_type": "markdown",
      "metadata": {
        "id": "L4HQ4g_N96Fh"
      },
      "source": [
        "CHECKING FOR PRESENCE OF 'NaN' VALUES IN TRAINING DATA"
      ]
    },
    {
      "cell_type": "code",
      "metadata": {
        "colab": {
          "base_uri": "https://localhost:8080/"
        },
        "id": "xncCBOTK1Tu9",
        "outputId": "764ae67d-0264-4b24-cbe6-793e623fb6c5"
      },
      "source": [
        "Train.isna().sum()"
      ],
      "execution_count": null,
      "outputs": [
        {
          "output_type": "execute_result",
          "data": {
            "text/plain": [
              "tweets                                    0\n",
              "count_tweets                            202\n",
              "avg_tweet_likes                           0\n",
              "avg_tweet_retweets                        0\n",
              "chatter                                 558\n",
              "followers                                 0\n",
              "following                                 0\n",
              "change                                    0\n",
              "rank                                      0\n",
              "rank on the following day (dpv1)          0\n",
              "rank 2 days later            ( dpv2)      0\n",
              "rank 3 days later          (dpv3)         0\n",
              "dtype: int64"
            ]
          },
          "metadata": {},
          "execution_count": 6
        }
      ]
    },
    {
      "cell_type": "markdown",
      "metadata": {
        "id": "ZWXuz0jj-Ggg"
      },
      "source": [
        "CHECKING FOR PRESENCE OF 'NaN' VALUES IN TESTING DATA"
      ]
    },
    {
      "cell_type": "code",
      "metadata": {
        "colab": {
          "base_uri": "https://localhost:8080/"
        },
        "id": "l23L6h_AMU-5",
        "outputId": "c5b6248e-448c-4b00-c7b6-b4ae6bfffa94"
      },
      "source": [
        "Test.isna().sum()"
      ],
      "execution_count": null,
      "outputs": [
        {
          "output_type": "execute_result",
          "data": {
            "text/plain": [
              "tweets                 0\n",
              "count_tweets          90\n",
              "avg_tweet_likes        0\n",
              "avg_tweet_retweets     0\n",
              "chatter                0\n",
              "followers              0\n",
              "following              0\n",
              "change                 0\n",
              "rank                   0\n",
              "dtype: int64"
            ]
          },
          "metadata": {},
          "execution_count": 7
        }
      ]
    },
    {
      "cell_type": "markdown",
      "metadata": {
        "id": "OWtEBD1b-MBO"
      },
      "source": [
        "1. RENAMING RANKS COLUMNS FOR CONVENIENCE IN TRAINING DATA\n",
        "2. REPLACING 'NaN' VALUES IN TRAINING AND TESTING DATA WITH:\n",
        "\n",
        "    A. 'MEAN' IN CASE OF COUNT_TWEETS COLUMN\n",
        "    \n",
        "    B. 'NULL STRING' IN CASE OF CHATTER COLUMN \n"
      ]
    },
    {
      "cell_type": "code",
      "metadata": {
        "id": "1grqjVqpymji"
      },
      "source": [
        "Train.rename(columns = {'rank on the following day (dpv1)': 'rank1', 'rank 2 days later            ( dpv2)': 'rank2', \"rank 3 days later          (dpv3)\" : 'rank3'}, inplace = True)\n",
        "\n",
        "imputer = SimpleImputer()\n",
        "imputer.fit(Train[\"count_tweets\"].values.reshape(-1, 1))\n",
        "Train[\"count_tweets\"] = imputer.transform(Train[\"count_tweets\"].values.reshape(-1, 1))\n",
        "imputer.fit(Test[\"count_tweets\"].values.reshape(-1, 1))\n",
        "Test[\"count_tweets\"] = imputer.transform(Test[\"count_tweets\"].values.reshape(-1, 1))\n",
        "\n",
        "Train[\"chatter\"].fillna(\"\", inplace=True)"
      ],
      "execution_count": null,
      "outputs": []
    },
    {
      "cell_type": "markdown",
      "metadata": {
        "id": "_W6nWmnFADqJ"
      },
      "source": [
        "#PRE-PROCESSING DATA\n",
        "THE DATA IN TWEETS AND CHATTER COLUMN CONTAINS DATA ABOUT TWEETS TWEETED BY COMPANIES AND PEOPLE. EACH ENTRY CONTAINS ALL THE TWEETS PRESENT IN THAT PARTICULAR THREAD.\n",
        "\n",
        "CLEANING COLUMNS BY REMOVING PUNCTUATIONS, HASHTAGS, URLS, STOPWORDS AND SPECIAL CHARACTERS (EX: EMOJIS, CURRENCIES ETC..,), SO THAT ONLY THE TEXT WHICH IS TWEETED REMAINS.\n"
      ]
    },
    {
      "cell_type": "code",
      "metadata": {
        "id": "Lc4QlYqMSiI_"
      },
      "source": [
        "PUNCT_TO_REMOVE = string.punctuation\n",
        "def remove_punctuation(text):\n",
        "    \"\"\"custom function to remove the punctuation\"\"\"\n",
        "    return text.translate(str.maketrans('', '', PUNCT_TO_REMOVE))\n",
        "\n",
        "def remove_urls(text):\n",
        "    url_pattern = re.compile(r'https?://\\S+|www\\.\\S+')\n",
        "    return url_pattern.sub(r'', text)\n",
        "\n",
        "def remove_stopwords(text):\n",
        "  text = text.split()\n",
        "  text = [word for word in text\n",
        "\t\t\t\tif word not in set(stopwords.words('english'))]\t\t\n",
        "  text = ' '.join(text)\n",
        "  return text\n",
        "\n",
        "def special_characters(text):\n",
        "  text=re.sub('[^A-Za-z]+', ' ', text)\n",
        "  return text\n",
        "\n",
        "\n",
        "Train[\"tweets\"] = Train[\"tweets\"].str.lower()\n",
        "Train[\"tweets\"] = Train[\"tweets\"].apply(lambda text: remove_urls(text))\n",
        "Train[\"tweets\"] = Train[\"tweets\"].apply(lambda text: remove_stopwords(text))\n",
        "Train[\"tweets\"] = Train[\"tweets\"].apply(lambda text: remove_punctuation(text))\n",
        "Train[\"tweets\"] = Train[\"tweets\"].str.replace('text','')\n",
        "Train[\"tweets\"] = Train[\"tweets\"].str.replace('createdat','')\n",
        "Train[\"tweets\"] = Train[\"tweets\"].str.replace('retweetcount','')\n",
        "Train[\"tweets\"] = Train[\"tweets\"].str.replace('likes','')\n",
        "Train[\"tweets\"] = Train[\"tweets\"].str.replace('datetimedatetime','')\n",
        "Train[\"tweets\"] = Train[\"tweets\"].str.replace('tzinfodatetimetimezoneutc','')\n",
        "Train[\"tweets\"] = Train[\"tweets\"].apply(lambda text: special_characters(text))\n",
        "\n",
        "Train[\"chatter\"] = Train[\"chatter\"].str.lower()\n",
        "Train[\"chatter\"] = Train[\"chatter\"].apply(lambda text: remove_urls(text))\n",
        "Train[\"chatter\"] = Train[\"chatter\"].apply(lambda text: remove_punctuation(text))\n",
        "Train[\"chatter\"] = Train[\"chatter\"].apply(lambda text: remove_stopwords(text))\n",
        "Train[\"chatter\"] = Train[\"chatter\"].str.replace('text','')\n",
        "Train[\"chatter\"] = Train[\"chatter\"].str.replace('createdat','')\n",
        "Train[\"chatter\"] = Train[\"chatter\"].str.replace('retweetcount','')\n",
        "Train[\"chatter\"] = Train[\"chatter\"].str.replace('likes','')\n",
        "Train[\"chatter\"] = Train[\"chatter\"].str.replace('datetimedatetime','')\n",
        "Train[\"chatter\"] = Train[\"chatter\"].str.replace('tzinfodatetimetimezoneutc','')\n",
        "Train[\"chatter\"] = Train[\"chatter\"].apply(lambda text: special_characters(text))\n",
        "\n",
        "Test[\"tweets\"] = Test[\"tweets\"].str.lower()\n",
        "Test[\"tweets\"] = Test[\"tweets\"].apply(lambda text: remove_urls(text))\n",
        "Test[\"tweets\"] = Test[\"tweets\"].apply(lambda text: remove_stopwords(text))\n",
        "Test[\"tweets\"] = Test[\"tweets\"].apply(lambda text: remove_punctuation(text))\n",
        "Test[\"tweets\"] = Test[\"tweets\"].str.replace('text','')\n",
        "Test[\"tweets\"] = Test[\"tweets\"].str.replace('createdat','')\n",
        "Test[\"tweets\"] = Test[\"tweets\"].str.replace('retweetcount','')\n",
        "Test[\"tweets\"] = Test[\"tweets\"].str.replace('likes','')\n",
        "Test[\"tweets\"] = Test[\"tweets\"].str.replace('datetimedatetime','')\n",
        "Test[\"tweets\"] = Test[\"tweets\"].str.replace('tzinfodatetimetimezoneutc','')\n",
        "Test[\"tweets\"] = Test[\"tweets\"].apply(lambda text: special_characters(text))\n",
        "\n",
        "Test[\"chatter\"] = Test[\"chatter\"].str.lower()\n",
        "Test[\"chatter\"] = Test[\"chatter\"].apply(lambda text: remove_urls(text))\n",
        "Test[\"chatter\"] = Test[\"chatter\"].apply(lambda text: remove_punctuation(text))\n",
        "Test[\"chatter\"] = Test[\"chatter\"].apply(lambda text: remove_stopwords(text))\n",
        "Test[\"chatter\"] = Test[\"chatter\"].str.replace('text','')\n",
        "Test[\"chatter\"] = Test[\"chatter\"].str.replace('createdat','')\n",
        "Test[\"chatter\"] = Test[\"chatter\"].str.replace('retweetcount','')\n",
        "Test[\"chatter\"] = Test[\"chatter\"].str.replace('likes','')\n",
        "Test[\"chatter\"] = Test[\"chatter\"].str.replace('datetimedatetime','')\n",
        "Test[\"chatter\"] = Test[\"chatter\"].str.replace('tzinfodatetimetimezoneutc','')\n",
        "Test[\"chatter\"] = Test[\"chatter\"].apply(lambda text: special_characters(text))"
      ],
      "execution_count": null,
      "outputs": []
    },
    {
      "cell_type": "markdown",
      "metadata": {
        "id": "uEzMAwMyB-h-"
      },
      "source": [
        "CREATING A COPY OF TRAINING AND TESTING DATA FOR CONVENIENCE "
      ]
    },
    {
      "cell_type": "code",
      "metadata": {
        "id": "ycq5xxAPUi5v"
      },
      "source": [
        "train=Train.copy(deep=False)\n",
        "test=Test.copy(deep=False)"
      ],
      "execution_count": null,
      "outputs": []
    },
    {
      "cell_type": "markdown",
      "metadata": {
        "id": "EjU5X9d_CPDR"
      },
      "source": [
        "SENTIMENT EXTRACTION:\n",
        "\n",
        "EACH TWEET HAS A SUBJECTIVITY INDEX INDICATING WHETHER THE TWEETS IS A FACT OR AN OPINION/BELIEF AND A POLARITY INDEX INDICATING WHETHER THE TWEETS IS A POSITIVE OR A NEGATIVE TWEET."
      ]
    },
    {
      "cell_type": "markdown",
      "metadata": {
        "id": "uyF_0GVSD0Jv"
      },
      "source": [
        "\n",
        "\n",
        "USING 'TEXTBLOB' FOR EXTRACTING SUBJECTIVITY AND POLARITY OF THE TWEETS AND STORING THEM AS COLUMNS FOR ANALYSIS IN TRAINING DATA."
      ]
    },
    {
      "cell_type": "code",
      "metadata": {
        "id": "8TuWTtDuwIty"
      },
      "source": [
        "tweets_subjectivity=[]\n",
        "tweets_polarity=[]\n",
        "\n",
        "for i in range(1209):\n",
        "  testimonial_1 = TextBlob(train[\"tweets\"][i])\n",
        "  tweets_subjectivity.append(testimonial_1.sentiment.subjectivity)\n",
        "  tweets_polarity.append(testimonial_1.sentiment.polarity)\n",
        "\n",
        "chatter_subjectivity=[]\n",
        "chatter_polarity=[]\n",
        "\n",
        "for i in range(1209):\n",
        "  testimonial_2 = TextBlob(train[\"chatter\"][i])\n",
        "  chatter_subjectivity.append(testimonial_2.sentiment.subjectivity)\n",
        "  chatter_polarity.append(testimonial_2.sentiment.polarity)\n",
        "\n",
        "train.insert(1,'tweets_subjectivity',tweets_subjectivity)\n",
        "train.insert(2,'tweets_polarity',tweets_polarity)\n",
        "train.insert(7,'chatter_subjectivity',chatter_subjectivity)\n",
        "train.insert(8,'chatter_polarity',chatter_polarity)\n",
        "train.drop(['tweets','chatter'], axis=1, inplace=True)"
      ],
      "execution_count": null,
      "outputs": []
    },
    {
      "cell_type": "markdown",
      "metadata": {
        "id": "dKOhCYIVD9ol"
      },
      "source": [
        "\n",
        "USING 'TEXTBLOB' FOR EXTRACTING SUBJECTIVITY AND POLARITY OF THE TWEETS AND STORING THEM AS COLUMNS FOR ANALYSIS IN TESTING DATA."
      ]
    },
    {
      "cell_type": "code",
      "metadata": {
        "id": "CsMpG29HBKcm"
      },
      "source": [
        "tweets_subjectivity=[]\n",
        "tweets_polarity=[]\n",
        "\n",
        "for i in range(744):\n",
        "  testimonial_1 = TextBlob(test[\"tweets\"][i])\n",
        "  tweets_subjectivity.append(testimonial_1.sentiment.subjectivity)\n",
        "  tweets_polarity.append(testimonial_1.sentiment.polarity)\n",
        "\n",
        "chatter_subjectivity=[]\n",
        "chatter_polarity=[]\n",
        "\n",
        "for i in range(744):\n",
        "  testimonial_2 = TextBlob(test[\"chatter\"][i])\n",
        "  chatter_subjectivity.append(testimonial_2.sentiment.subjectivity)\n",
        "  chatter_polarity.append(testimonial_2.sentiment.polarity)\n",
        "\n",
        "test.insert(1,'tweets_subjectivity',tweets_subjectivity)\n",
        "test.insert(2,'tweets_polarity',tweets_polarity)\n",
        "test.insert(7,'chatter_subjectivity',chatter_subjectivity)\n",
        "test.insert(8,'chatter_polarity',chatter_polarity)\n",
        "\n",
        "test.drop(['tweets','chatter'], axis=1, inplace=True)"
      ],
      "execution_count": null,
      "outputs": []
    },
    {
      "cell_type": "markdown",
      "metadata": {
        "id": "LcwJKJPtED8q"
      },
      "source": [
        "DROPPED THE TWEETS AND CHATTER COLUMNS IN BOTH TRAINING AND TESTING DATA TO AVOID CORRELATION BETWEEN NEWLY FORMED AND OLD COLUMNS."
      ]
    },
    {
      "cell_type": "code",
      "metadata": {
        "colab": {
          "base_uri": "https://localhost:8080/",
          "height": 320
        },
        "id": "ZgDcW1BvxCXx",
        "outputId": "9663e07e-34ae-4ee5-8239-015d405a08de"
      },
      "source": [
        "train.describe()"
      ],
      "execution_count": null,
      "outputs": [
        {
          "output_type": "execute_result",
          "data": {
            "text/html": [
              "<div>\n",
              "<style scoped>\n",
              "    .dataframe tbody tr th:only-of-type {\n",
              "        vertical-align: middle;\n",
              "    }\n",
              "\n",
              "    .dataframe tbody tr th {\n",
              "        vertical-align: top;\n",
              "    }\n",
              "\n",
              "    .dataframe thead th {\n",
              "        text-align: right;\n",
              "    }\n",
              "</style>\n",
              "<table border=\"1\" class=\"dataframe\">\n",
              "  <thead>\n",
              "    <tr style=\"text-align: right;\">\n",
              "      <th></th>\n",
              "      <th>tweets_subjectivity</th>\n",
              "      <th>tweets_polarity</th>\n",
              "      <th>count_tweets</th>\n",
              "      <th>avg_tweet_likes</th>\n",
              "      <th>avg_tweet_retweets</th>\n",
              "      <th>chatter_subjectivity</th>\n",
              "      <th>chatter_polarity</th>\n",
              "      <th>followers</th>\n",
              "      <th>following</th>\n",
              "      <th>change</th>\n",
              "      <th>rank</th>\n",
              "      <th>rank1</th>\n",
              "      <th>rank2</th>\n",
              "      <th>rank3</th>\n",
              "    </tr>\n",
              "  </thead>\n",
              "  <tbody>\n",
              "    <tr>\n",
              "      <th>count</th>\n",
              "      <td>1209.000000</td>\n",
              "      <td>1209.000000</td>\n",
              "      <td>1209.000000</td>\n",
              "      <td>1209.000000</td>\n",
              "      <td>1209.000000</td>\n",
              "      <td>1209.000000</td>\n",
              "      <td>1209.000000</td>\n",
              "      <td>1.209000e+03</td>\n",
              "      <td>1209.000000</td>\n",
              "      <td>1209.000000</td>\n",
              "      <td>1209.000000</td>\n",
              "      <td>1209.000000</td>\n",
              "      <td>1209.000000</td>\n",
              "      <td>1209.000000</td>\n",
              "    </tr>\n",
              "    <tr>\n",
              "      <th>mean</th>\n",
              "      <td>0.420217</td>\n",
              "      <td>0.141168</td>\n",
              "      <td>13.527309</td>\n",
              "      <td>39.418935</td>\n",
              "      <td>8.591025</td>\n",
              "      <td>0.222437</td>\n",
              "      <td>0.071736</td>\n",
              "      <td>1.122702e+06</td>\n",
              "      <td>8081.205128</td>\n",
              "      <td>0.000115</td>\n",
              "      <td>47.000000</td>\n",
              "      <td>47.000000</td>\n",
              "      <td>47.000000</td>\n",
              "      <td>47.000000</td>\n",
              "    </tr>\n",
              "    <tr>\n",
              "      <th>std</th>\n",
              "      <td>0.297173</td>\n",
              "      <td>0.236513</td>\n",
              "      <td>33.938991</td>\n",
              "      <td>387.018589</td>\n",
              "      <td>82.324540</td>\n",
              "      <td>0.252060</td>\n",
              "      <td>0.114790</td>\n",
              "      <td>2.984283e+06</td>\n",
              "      <td>17708.493189</td>\n",
              "      <td>0.000305</td>\n",
              "      <td>26.855589</td>\n",
              "      <td>26.855828</td>\n",
              "      <td>26.855836</td>\n",
              "      <td>26.855836</td>\n",
              "    </tr>\n",
              "    <tr>\n",
              "      <th>min</th>\n",
              "      <td>0.000000</td>\n",
              "      <td>-0.600000</td>\n",
              "      <td>1.000000</td>\n",
              "      <td>0.000000</td>\n",
              "      <td>0.000000</td>\n",
              "      <td>0.000000</td>\n",
              "      <td>-0.340909</td>\n",
              "      <td>5.110700e+04</td>\n",
              "      <td>4.000000</td>\n",
              "      <td>-0.000357</td>\n",
              "      <td>1.000000</td>\n",
              "      <td>1.000000</td>\n",
              "      <td>1.000000</td>\n",
              "      <td>1.000000</td>\n",
              "    </tr>\n",
              "    <tr>\n",
              "      <th>25%</th>\n",
              "      <td>0.066667</td>\n",
              "      <td>0.000000</td>\n",
              "      <td>2.000000</td>\n",
              "      <td>0.000000</td>\n",
              "      <td>0.000000</td>\n",
              "      <td>0.000000</td>\n",
              "      <td>0.000000</td>\n",
              "      <td>1.094500e+05</td>\n",
              "      <td>337.000000</td>\n",
              "      <td>0.000000</td>\n",
              "      <td>24.000000</td>\n",
              "      <td>24.000000</td>\n",
              "      <td>24.000000</td>\n",
              "      <td>24.000000</td>\n",
              "    </tr>\n",
              "    <tr>\n",
              "      <th>50%</th>\n",
              "      <td>0.489773</td>\n",
              "      <td>0.102899</td>\n",
              "      <td>7.000000</td>\n",
              "      <td>1.000000</td>\n",
              "      <td>0.166667</td>\n",
              "      <td>0.000000</td>\n",
              "      <td>0.000000</td>\n",
              "      <td>3.250900e+05</td>\n",
              "      <td>1397.000000</td>\n",
              "      <td>0.000064</td>\n",
              "      <td>47.000000</td>\n",
              "      <td>47.000000</td>\n",
              "      <td>47.000000</td>\n",
              "      <td>47.000000</td>\n",
              "    </tr>\n",
              "    <tr>\n",
              "      <th>75%</th>\n",
              "      <td>0.638636</td>\n",
              "      <td>0.275253</td>\n",
              "      <td>13.527309</td>\n",
              "      <td>8.000000</td>\n",
              "      <td>2.000000</td>\n",
              "      <td>0.478680</td>\n",
              "      <td>0.145191</td>\n",
              "      <td>7.733170e+05</td>\n",
              "      <td>5489.000000</td>\n",
              "      <td>0.000157</td>\n",
              "      <td>70.500000</td>\n",
              "      <td>70.000000</td>\n",
              "      <td>70.000000</td>\n",
              "      <td>70.000000</td>\n",
              "    </tr>\n",
              "    <tr>\n",
              "      <th>max</th>\n",
              "      <td>1.000000</td>\n",
              "      <td>1.000000</td>\n",
              "      <td>520.000000</td>\n",
              "      <td>11462.375000</td>\n",
              "      <td>2166.375000</td>\n",
              "      <td>0.815385</td>\n",
              "      <td>0.769231</td>\n",
              "      <td>2.389704e+07</td>\n",
              "      <td>105215.000000</td>\n",
              "      <td>0.007013</td>\n",
              "      <td>93.000000</td>\n",
              "      <td>93.000000</td>\n",
              "      <td>93.000000</td>\n",
              "      <td>93.000000</td>\n",
              "    </tr>\n",
              "  </tbody>\n",
              "</table>\n",
              "</div>"
            ],
            "text/plain": [
              "       tweets_subjectivity  tweets_polarity  ...        rank2        rank3\n",
              "count          1209.000000      1209.000000  ...  1209.000000  1209.000000\n",
              "mean              0.420217         0.141168  ...    47.000000    47.000000\n",
              "std               0.297173         0.236513  ...    26.855836    26.855836\n",
              "min               0.000000        -0.600000  ...     1.000000     1.000000\n",
              "25%               0.066667         0.000000  ...    24.000000    24.000000\n",
              "50%               0.489773         0.102899  ...    47.000000    47.000000\n",
              "75%               0.638636         0.275253  ...    70.000000    70.000000\n",
              "max               1.000000         1.000000  ...    93.000000    93.000000\n",
              "\n",
              "[8 rows x 14 columns]"
            ]
          },
          "metadata": {},
          "execution_count": 13
        }
      ]
    },
    {
      "cell_type": "markdown",
      "metadata": {
        "id": "qwp3vAlzEi71"
      },
      "source": [
        "REMOVING OUTLIERS PRESENT IN BOTH TRAINING AND TESTING DATA TO REDUCE INACCURACY"
      ]
    },
    {
      "cell_type": "code",
      "metadata": {
        "id": "E8FoZrcZVNcP"
      },
      "source": [
        "def remove_outliers(x):\n",
        "  Column_Names=x.columns\n",
        "  for j in Column_Names:\n",
        "      try:\n",
        "          xy=x[j]    \n",
        "          mydata=pd.DataFrame()\n",
        "          updated=[]\n",
        "          Q1,Q3=np.percentile(xy,[25,75])\n",
        "          IQR=Q3-Q1\n",
        "          minimum=Q1-1.5*IQR\n",
        "          maximum=Q3+1.5*IQR\n",
        "          for i in xy:\n",
        "              if(i>maximum):\n",
        "                  i=maximum\n",
        "                  updated.append(i)\n",
        "              elif(i<minimum):\n",
        "                  i=minimum\n",
        "                  updated.append(i)\n",
        "              else:\n",
        "                  updated.append(i)\n",
        "          x[j]=updated\n",
        "      except:\n",
        "          continue\n",
        "  return x\n",
        "\n",
        "train = remove_outliers(train)\n",
        "test = remove_outliers(test)"
      ],
      "execution_count": null,
      "outputs": []
    },
    {
      "cell_type": "code",
      "metadata": {
        "colab": {
          "base_uri": "https://localhost:8080/",
          "height": 320
        },
        "id": "ZwPZ3VGUxViF",
        "outputId": "4347e38f-6075-4f20-d436-87a30421d42d"
      },
      "source": [
        "train.describe()"
      ],
      "execution_count": null,
      "outputs": [
        {
          "output_type": "execute_result",
          "data": {
            "text/html": [
              "<div>\n",
              "<style scoped>\n",
              "    .dataframe tbody tr th:only-of-type {\n",
              "        vertical-align: middle;\n",
              "    }\n",
              "\n",
              "    .dataframe tbody tr th {\n",
              "        vertical-align: top;\n",
              "    }\n",
              "\n",
              "    .dataframe thead th {\n",
              "        text-align: right;\n",
              "    }\n",
              "</style>\n",
              "<table border=\"1\" class=\"dataframe\">\n",
              "  <thead>\n",
              "    <tr style=\"text-align: right;\">\n",
              "      <th></th>\n",
              "      <th>tweets_subjectivity</th>\n",
              "      <th>tweets_polarity</th>\n",
              "      <th>count_tweets</th>\n",
              "      <th>avg_tweet_likes</th>\n",
              "      <th>avg_tweet_retweets</th>\n",
              "      <th>chatter_subjectivity</th>\n",
              "      <th>chatter_polarity</th>\n",
              "      <th>followers</th>\n",
              "      <th>following</th>\n",
              "      <th>change</th>\n",
              "      <th>rank</th>\n",
              "      <th>rank1</th>\n",
              "      <th>rank2</th>\n",
              "      <th>rank3</th>\n",
              "    </tr>\n",
              "  </thead>\n",
              "  <tbody>\n",
              "    <tr>\n",
              "      <th>count</th>\n",
              "      <td>1209.000000</td>\n",
              "      <td>1209.000000</td>\n",
              "      <td>1209.000000</td>\n",
              "      <td>1209.000000</td>\n",
              "      <td>1209.000000</td>\n",
              "      <td>1209.000000</td>\n",
              "      <td>1209.000000</td>\n",
              "      <td>1.209000e+03</td>\n",
              "      <td>1209.000000</td>\n",
              "      <td>1209.000000</td>\n",
              "      <td>1209.000000</td>\n",
              "      <td>1209.000000</td>\n",
              "      <td>1209.000000</td>\n",
              "      <td>1209.000000</td>\n",
              "    </tr>\n",
              "    <tr>\n",
              "      <th>mean</th>\n",
              "      <td>0.420217</td>\n",
              "      <td>0.139451</td>\n",
              "      <td>9.606341</td>\n",
              "      <td>5.101267</td>\n",
              "      <td>1.263847</td>\n",
              "      <td>0.222437</td>\n",
              "      <td>0.070042</td>\n",
              "      <td>5.432510e+05</td>\n",
              "      <td>3872.142266</td>\n",
              "      <td>0.000093</td>\n",
              "      <td>47.000000</td>\n",
              "      <td>47.000000</td>\n",
              "      <td>47.000000</td>\n",
              "      <td>47.000000</td>\n",
              "    </tr>\n",
              "    <tr>\n",
              "      <th>std</th>\n",
              "      <td>0.297173</td>\n",
              "      <td>0.222421</td>\n",
              "      <td>8.256832</td>\n",
              "      <td>7.074368</td>\n",
              "      <td>1.790641</td>\n",
              "      <td>0.252060</td>\n",
              "      <td>0.108166</td>\n",
              "      <td>5.484897e+05</td>\n",
              "      <td>4860.345788</td>\n",
              "      <td>0.000128</td>\n",
              "      <td>26.855589</td>\n",
              "      <td>26.855828</td>\n",
              "      <td>26.855836</td>\n",
              "      <td>26.855836</td>\n",
              "    </tr>\n",
              "    <tr>\n",
              "      <th>min</th>\n",
              "      <td>0.000000</td>\n",
              "      <td>-0.412879</td>\n",
              "      <td>1.000000</td>\n",
              "      <td>0.000000</td>\n",
              "      <td>0.000000</td>\n",
              "      <td>0.000000</td>\n",
              "      <td>-0.217786</td>\n",
              "      <td>5.110700e+04</td>\n",
              "      <td>4.000000</td>\n",
              "      <td>-0.000236</td>\n",
              "      <td>1.000000</td>\n",
              "      <td>1.000000</td>\n",
              "      <td>1.000000</td>\n",
              "      <td>1.000000</td>\n",
              "    </tr>\n",
              "    <tr>\n",
              "      <th>25%</th>\n",
              "      <td>0.066667</td>\n",
              "      <td>0.000000</td>\n",
              "      <td>2.000000</td>\n",
              "      <td>0.000000</td>\n",
              "      <td>0.000000</td>\n",
              "      <td>0.000000</td>\n",
              "      <td>0.000000</td>\n",
              "      <td>1.094500e+05</td>\n",
              "      <td>337.000000</td>\n",
              "      <td>0.000000</td>\n",
              "      <td>24.000000</td>\n",
              "      <td>24.000000</td>\n",
              "      <td>24.000000</td>\n",
              "      <td>24.000000</td>\n",
              "    </tr>\n",
              "    <tr>\n",
              "      <th>50%</th>\n",
              "      <td>0.489773</td>\n",
              "      <td>0.102899</td>\n",
              "      <td>7.000000</td>\n",
              "      <td>1.000000</td>\n",
              "      <td>0.166667</td>\n",
              "      <td>0.000000</td>\n",
              "      <td>0.000000</td>\n",
              "      <td>3.250900e+05</td>\n",
              "      <td>1397.000000</td>\n",
              "      <td>0.000064</td>\n",
              "      <td>47.000000</td>\n",
              "      <td>47.000000</td>\n",
              "      <td>47.000000</td>\n",
              "      <td>47.000000</td>\n",
              "    </tr>\n",
              "    <tr>\n",
              "      <th>75%</th>\n",
              "      <td>0.638636</td>\n",
              "      <td>0.275253</td>\n",
              "      <td>13.527309</td>\n",
              "      <td>8.000000</td>\n",
              "      <td>2.000000</td>\n",
              "      <td>0.478680</td>\n",
              "      <td>0.145191</td>\n",
              "      <td>7.733170e+05</td>\n",
              "      <td>5489.000000</td>\n",
              "      <td>0.000157</td>\n",
              "      <td>70.500000</td>\n",
              "      <td>70.000000</td>\n",
              "      <td>70.000000</td>\n",
              "      <td>70.000000</td>\n",
              "    </tr>\n",
              "    <tr>\n",
              "      <th>max</th>\n",
              "      <td>1.000000</td>\n",
              "      <td>0.688131</td>\n",
              "      <td>30.818272</td>\n",
              "      <td>20.000000</td>\n",
              "      <td>5.000000</td>\n",
              "      <td>0.815385</td>\n",
              "      <td>0.362977</td>\n",
              "      <td>1.769118e+06</td>\n",
              "      <td>13217.000000</td>\n",
              "      <td>0.000393</td>\n",
              "      <td>93.000000</td>\n",
              "      <td>93.000000</td>\n",
              "      <td>93.000000</td>\n",
              "      <td>93.000000</td>\n",
              "    </tr>\n",
              "  </tbody>\n",
              "</table>\n",
              "</div>"
            ],
            "text/plain": [
              "       tweets_subjectivity  tweets_polarity  ...        rank2        rank3\n",
              "count          1209.000000      1209.000000  ...  1209.000000  1209.000000\n",
              "mean              0.420217         0.139451  ...    47.000000    47.000000\n",
              "std               0.297173         0.222421  ...    26.855836    26.855836\n",
              "min               0.000000        -0.412879  ...     1.000000     1.000000\n",
              "25%               0.066667         0.000000  ...    24.000000    24.000000\n",
              "50%               0.489773         0.102899  ...    47.000000    47.000000\n",
              "75%               0.638636         0.275253  ...    70.000000    70.000000\n",
              "max               1.000000         0.688131  ...    93.000000    93.000000\n",
              "\n",
              "[8 rows x 14 columns]"
            ]
          },
          "metadata": {},
          "execution_count": 15
        }
      ]
    },
    {
      "cell_type": "markdown",
      "metadata": {
        "id": "Ii7_Cm0K_Wks"
      },
      "source": [
        "#Training Model\n"
      ]
    },
    {
      "cell_type": "markdown",
      "metadata": {
        "id": "kpa7rgbxFb30"
      },
      "source": [
        "BEFORE TRAINING DATA, CHECKING FOR CORRELATION BETWEEN ALL THE COLUMNS IN THE TRAINING DATASET, FOR DETERMINING BEHAVIOUR OF EACH COLUMN WITH RESPECT TO OTHER COLUMNS."
      ]
    },
    {
      "cell_type": "code",
      "metadata": {
        "colab": {
          "base_uri": "https://localhost:8080/",
          "height": 1000
        },
        "id": "sK2IeptM45CJ",
        "outputId": "f770694d-07f3-4740-cea8-4c4cac324163"
      },
      "source": [
        "plt.figure(figsize=(30,30))\n",
        "sns.heatmap(train.corr(),annot=True,cmap=\"YlGnBu\");"
      ],
      "execution_count": null,
      "outputs": [
        {
          "output_type": "display_data",
          "data": {
            "image/png": "[encoded data removed]",
            "text/plain": [
              "<Figure size 2160x2160 with 2 Axes>"
            ]
          },
          "metadata": {
            "needs_background": "light"
          }
        }
      ]
    },
    {
      "cell_type": "code",
      "metadata": {
        "colab": {
          "base_uri": "https://localhost:8080/"
        },
        "id": "NONgulwHv2O1",
        "outputId": "2da3787d-db29-484e-aac8-25e3d8883209"
      },
      "source": [
        "test.columns"
      ],
      "execution_count": null,
      "outputs": [
        {
          "output_type": "execute_result",
          "data": {
            "text/plain": [
              "Index(['tweets_subjectivity', 'tweets_polarity', 'count_tweets',\n",
              "       'avg_tweet_likes', 'avg_tweet_retweets', 'chatter_subjectivity',\n",
              "       'chatter_polarity', 'followers', 'following', 'change', 'rank'],\n",
              "      dtype='object')"
            ]
          },
          "metadata": {},
          "execution_count": 17
        }
      ]
    },
    {
      "cell_type": "markdown",
      "metadata": {
        "id": "AvfaN1b9Gltu"
      },
      "source": [
        "PREPARING DATASETS AND COLUMNS IN THEM FOR TRAINING, VALIDATING AND PEDICTING."
      ]
    },
    {
      "cell_type": "code",
      "metadata": {
        "id": "IlU4dRGZ8ReO"
      },
      "source": [
        "#REMOVING COUNT_TWEETS BASED ON CORRELATION COEFFECIENTS \n",
        "x_1_test=test[['tweets_subjectivity','tweets_polarity','avg_tweet_likes','chatter_subjectivity','chatter_polarity','followers', 'following', 'rank']]\n",
        "x_2_test=test[['tweets_subjectivity','tweets_polarity', 'count_tweets','avg_tweet_likes','chatter_subjectivity','chatter_polarity', 'followers', 'following', 'rank']]\n",
        "x_3_test=test[['tweets_subjectivity','tweets_polarity', 'count_tweets','avg_tweet_likes','chatter_subjectivity','chatter_polarity','followers', 'following', 'rank']]\n",
        "\n",
        "y_3=train['rank3']\n",
        "y_2=train['rank2']\n",
        "y_1=train['rank1']\n",
        "\n",
        "x_1=train[['tweets_subjectivity','tweets_polarity','avg_tweet_likes','chatter_subjectivity','chatter_polarity',  'followers', 'following', 'rank']]\n",
        "x_2=train[['tweets_subjectivity','tweets_polarity', 'count_tweets','avg_tweet_likes','chatter_subjectivity','chatter_polarity', 'followers', 'following', 'rank', 'rank1']]\n",
        "x_3=train[['tweets_subjectivity','tweets_polarity', 'count_tweets','avg_tweet_likes','chatter_subjectivity','chatter_polarity', 'followers', 'following', 'rank', 'rank1','rank2']]\n",
        "\n",
        "#COMBINING RANK COLUMNS TO REDUCE INACCURACY DUE TO CORRELATION EFFECT\n",
        "x_3['rank']=x_3['rank']+x_3['rank1']+x_3['rank2']\n",
        "x_3.drop(['rank1','rank2'],axis=1,inplace=True)\n",
        "\n",
        "def product(x,y):\n",
        "  z=[]\n",
        "  for i in range(len(x)):\n",
        "    z.append(x[i]*y[i])\n",
        "  return z\n",
        "def transform(x):\n",
        "  y = product(x['tweets_subjectivity'],x['tweets_polarity'])\n",
        "  z = product(x['chatter_subjectivity'],x['chatter_polarity'])\n",
        "  x.insert(0,column='tweets_Sentiment',value=y)\n",
        "  x.insert(1,column='chatter_Sentiment',value=z)\n",
        "  x.drop(['tweets_subjectivity', 'tweets_polarity','chatter_subjectivity','chatter_polarity'], axis=1, inplace=True)\n",
        "  return x\n",
        "\n",
        "x_1 = transform(x_1)\n",
        "x_2 = transform(x_2)\n",
        "x_3 = transform(x_3)\n",
        "x_1_test = transform(x_1_test)\n",
        "x_2_test = transform(x_2_test)\n",
        "x_3_test = transform(x_3_test)\n",
        "\n",
        "# x_1_train,x_1_val,y_1_train,y_1_val=train_test_split(x_1,y_1,test_size=0.2,random_state=42)\n",
        "# x_2_train,x_2_val,y_2_train,y_2_val=train_test_split(x_2,y_2,test_size=0.2,random_state=42)\n",
        "# x_3_train,x_3_val,y_3_train,y_3_val=train_test_split(x_3,y_3,test_size=0.2,random_state=42)\n"
      ],
      "execution_count": null,
      "outputs": []
    },
    {
      "cell_type": "markdown",
      "metadata": {
        "id": "whygvi37uzLb"
      },
      "source": [
        "#HYPERPARAMETER TUNING"
      ]
    },
    {
      "cell_type": "markdown",
      "metadata": {
        "id": "iuzKgbXFG2mr"
      },
      "source": [
        "FINDING OUT BEST PARAMETERS FOR 'KNeighborsRegressor()' USING GRIDSEARCHCV WITH NUMBER OF FOLDS AS 10"
      ]
    },
    {
      "cell_type": "code",
      "metadata": {
        "colab": {
          "base_uri": "https://localhost:8080/"
        },
        "id": "tgH7Px17xHTg",
        "outputId": "90829ac5-9a22-4307-a540-bd9b1be2b9f3"
      },
      "source": [
        "leaf_size = list(range(1,40))\n",
        "n_neighbors = list(range(1,30))\n",
        "\n",
        "hyperparameters = dict(leaf_size=leaf_size, n_neighbors=n_neighbors)\n",
        "rgr = GridSearchCV(KNeighborsRegressor(), hyperparameters, cv=10)\n",
        "\n",
        "def tuner(x,y):\n",
        "  best_model = rgr.fit(x,y)\n",
        "  print('leaf_size =', best_model.best_estimator_.get_params()['leaf_size'])\n",
        "  print('n_neighbors =', best_model.best_estimator_.get_params()['n_neighbors'])\n",
        "\n",
        "tuner(x_1,y_1)\n",
        "tuner(x_2,y_2)\n",
        "tuner(x_3,y_3)"
      ],
      "execution_count": null,
      "outputs": [
        {
          "output_type": "stream",
          "name": "stdout",
          "text": [
            "leaf_size = 1\n",
            "n_neighbors = 10\n",
            "leaf_size = 1\n",
            "n_neighbors = 9\n",
            "leaf_size = 1\n",
            "n_neighbors = 9\n"
          ]
        }
      ]
    },
    {
      "cell_type": "markdown",
      "metadata": {
        "id": "zt8z0px5HXyr"
      },
      "source": [
        "TRAINING AND PREDICTING USING KneighborsRegressor() WITH BEST PARAMETERS OBTAINED FROM GRIDSEARCHCV"
      ]
    },
    {
      "cell_type": "code",
      "metadata": {
        "colab": {
          "base_uri": "https://localhost:8080/",
          "height": 206
        },
        "id": "GWYeSblItIiD",
        "outputId": "d684c36e-6bea-4b19-d26b-f4f896c757f0"
      },
      "source": [
        "output = pd.DataFrame()\n",
        "output[\"ID\"] = id\n",
        "\n",
        "np.random.seed(42)\n",
        "model1 = KNeighborsRegressor(n_neighbors=8, leaf_size=1, p=1)\n",
        "model1.fit(x_1,y_1)\n",
        "y_1_pred = (model1.predict(x_1_test)).astype(int)\n",
        "# y_1_val_pred = model1.predict(x_1_val)\n",
        "# print(mean_squared_error(y_1_val_pred,y_1_val)**0.5)\n",
        "\n",
        "output['rank1']=y_1_pred.astype(int)\n",
        "x_2_test['rank1']=y_1_pred\n",
        "x_3_test['rank1']=y_1_pred\n",
        "\n",
        "np.random.seed(42)\n",
        "model2 = KNeighborsRegressor(n_neighbors=8, leaf_size=1, p=1)\n",
        "model2.fit(x_2,y_2)\n",
        "y_2_pred = (model2.predict(x_2_test)).astype(int)\n",
        "# y_2_val_pred = model2.predict(x_2_val)\n",
        "# print(mean_squared_error(y_2_val_pred,y_2_val)**0.5)\n",
        "\n",
        "output['rank2']=y_2_pred\n",
        "x_3_test['rank2']=y_2_pred\n",
        "\n",
        "x_3_test['rank']=x_3_test['rank']+x_3_test['rank1']+x_3_test['rank2']\n",
        "x_3_test.drop(['rank1','rank2'],axis=1,inplace=True)\n",
        "\n",
        "np.random.seed(42)\n",
        "model3 = KNeighborsRegressor(n_neighbors=8, leaf_size=1, p=1)\n",
        "model3.fit(x_3,y_3)\n",
        "y_3_pred = (model3.predict(x_3_test)).astype(int)\n",
        "# y_3_val_pred = model3.predict(x_3_val)\n",
        "# print(mean_squared_error(y_3_val_pred,y_3_val)**0.5)\n",
        "\n",
        "output['rank3'] = y_3_pred\n",
        "output.head()"
      ],
      "execution_count": null,
      "outputs": [
        {
          "output_type": "execute_result",
          "data": {
            "text/html": [
              "<div>\n",
              "<style scoped>\n",
              "    .dataframe tbody tr th:only-of-type {\n",
              "        vertical-align: middle;\n",
              "    }\n",
              "\n",
              "    .dataframe tbody tr th {\n",
              "        vertical-align: top;\n",
              "    }\n",
              "\n",
              "    .dataframe thead th {\n",
              "        text-align: right;\n",
              "    }\n",
              "</style>\n",
              "<table border=\"1\" class=\"dataframe\">\n",
              "  <thead>\n",
              "    <tr style=\"text-align: right;\">\n",
              "      <th></th>\n",
              "      <th>ID</th>\n",
              "      <th>rank1</th>\n",
              "      <th>rank2</th>\n",
              "      <th>rank3</th>\n",
              "    </tr>\n",
              "  </thead>\n",
              "  <tbody>\n",
              "    <tr>\n",
              "      <th>0</th>\n",
              "      <td>1</td>\n",
              "      <td>29</td>\n",
              "      <td>21</td>\n",
              "      <td>19</td>\n",
              "    </tr>\n",
              "    <tr>\n",
              "      <th>1</th>\n",
              "      <td>2</td>\n",
              "      <td>84</td>\n",
              "      <td>83</td>\n",
              "      <td>83</td>\n",
              "    </tr>\n",
              "    <tr>\n",
              "      <th>2</th>\n",
              "      <td>3</td>\n",
              "      <td>72</td>\n",
              "      <td>73</td>\n",
              "      <td>74</td>\n",
              "    </tr>\n",
              "    <tr>\n",
              "      <th>3</th>\n",
              "      <td>4</td>\n",
              "      <td>63</td>\n",
              "      <td>70</td>\n",
              "      <td>71</td>\n",
              "    </tr>\n",
              "    <tr>\n",
              "      <th>4</th>\n",
              "      <td>5</td>\n",
              "      <td>48</td>\n",
              "      <td>48</td>\n",
              "      <td>48</td>\n",
              "    </tr>\n",
              "  </tbody>\n",
              "</table>\n",
              "</div>"
            ],
            "text/plain": [
              "   ID  rank1  rank2  rank3\n",
              "0   1     29     21     19\n",
              "1   2     84     83     83\n",
              "2   3     72     73     74\n",
              "3   4     63     70     71\n",
              "4   5     48     48     48"
            ]
          },
          "metadata": {},
          "execution_count": 47
        }
      ]
    },
    {
      "cell_type": "markdown",
      "metadata": {
        "id": "9zwbs_gnH2Qd"
      },
      "source": [
        "EXPORTING PREDICTIONS FOR SUBMISSION"
      ]
    },
    {
      "cell_type": "code",
      "metadata": {
        "id": "Vctpj_v5ZDjs"
      },
      "source": [
        "output.to_csv(\"./submission_file_.csv\",index=False)"
      ],
      "execution_count": null,
      "outputs": []
    },
    {
      "cell_type": "markdown",
      "metadata": {
        "id": "Cy5WD7Sz6IZ1"
      },
      "source": [
        "## EXPERIMENTAL NOTES\n"
      ]
    },
    {
      "cell_type": "markdown",
      "metadata": {
        "id": "ziOdhiTFJ0sP"
      },
      "source": [
        "STAGE 3\n",
        "\n",
        "n_neighbors=10, leaf_size=1, p=1 16.178774292365468\n",
        "\n",
        "n_neighbors=9, leaf_size=1, p=1 17.174097057304078\n",
        "\n",
        "n_neighbors=8, leaf_size=1, p=1 14.664890501798917"
      ]
    },
    {
      "cell_type": "markdown",
      "metadata": {
        "id": "hspM5sQF1HJa"
      },
      "source": [
        "STAGE 2\n",
        "\n",
        "15.785865630968999\n",
        "17.41806319944427\n",
        "14.988604486836323 = added ranks in x_3\n",
        "\n",
        "15.785865630968999\n",
        "17.59152688602721\n",
        "14.988604486836323 = added ranks in x_2 and x_3\n"
      ]
    },
    {
      "cell_type": "markdown",
      "metadata": {
        "id": "5A-sWwzsKTqp"
      },
      "source": [
        "STAGE 1\n",
        "\n",
        "k neighbors\n",
        "15.808764176664427\n",
        "17.421289341321717\n",
        "15.001477888627347\n",
        "\n",
        "k neighbors without avg_tweet_retweets\n",
        "15.808487102275473\n",
        "17.41806319944427\n",
        "14.998739616469267\n",
        "\n",
        "k neighbors without avg tweet retweets & count tweets 15.785865630968999\n",
        "17.50415771152907\n",
        "15.043291522625982\n",
        "\n",
        "k neighbors without avg tweet retweets & count tweets (in x_1)\n",
        "15.785865630968999 17.41806319944427 14.998739616469267\n",
        "\n",
        "\n",
        "k neighbors without avg tweet retweets & count tweets (in x_1, x_2)\n",
        "15.785865630968999\n",
        "17.50415771152907\n",
        "14.998739616469267"
      ]
    }
  ]
}